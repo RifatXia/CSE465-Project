{
 "cells": [
  {
   "cell_type": "code",
   "execution_count": 5,
   "id": "b93ea4cd",
   "metadata": {},
   "outputs": [
    {
     "name": "stdout",
     "output_type": "stream",
     "text": [
      "Downloaded 2/5 images\n",
      "Downloaded 3/5 images\n",
      "Downloaded 4/5 images\n",
      "Downloaded 5/5 images\n",
      "Downloaded 5 images for 'lion'\n"
     ]
    }
   ],
   "source": [
    "import os\n",
    "import requests\n",
    "from bs4 import BeautifulSoup\n",
    "from urllib.parse import urljoin  # Import urljoin for proper URL handling\n",
    "\n",
    "def download_google_images(query, num_images):\n",
    "    # Replace spaces with '+' in the search query\n",
    "    query = query.replace(\" \", \"+\")\n",
    "\n",
    "    # Create a directory to save the images\n",
    "    if not os.path.exists(query):\n",
    "        os.makedirs(query)\n",
    "\n",
    "    # Perform a Google Image search\n",
    "    url = f\"https://www.google.com/search?q={query}&tbm=isch\"\n",
    "    response = requests.get(url)\n",
    "\n",
    "    if response.status_code == 200:\n",
    "        soup = BeautifulSoup(response.text, \"html.parser\")\n",
    "        img_tags = soup.find_all(\"img\")\n",
    "\n",
    "        # Download the first 'num_images' images\n",
    "        for i, img_tag in enumerate(img_tags[:num_images]):\n",
    "            img_url = img_tag.get(\"src\")\n",
    "\n",
    "            # Check if the URL starts with \"http\" to filter out non-image URLs\n",
    "            if img_url and img_url.startswith(\"http\"):\n",
    "                img_url = urljoin(url, img_url)  # Ensure absolute URL\n",
    "                img_data = requests.get(img_url).content\n",
    "\n",
    "                with open(f\"{query}/{query}{i + 1}.jpg\", \"wb\") as img_file:\n",
    "                    img_file.write(img_data)\n",
    "\n",
    "                print(f\"Downloaded {i + 1}/{num_images} images\")\n",
    "\n",
    "        print(f\"Downloaded {num_images} images for '{query}'\")\n",
    "    else:\n",
    "        print(\"Failed to connect to Google Images\")\n",
    "\n",
    "# Example usage: Download 5 lion images\n",
    "download_google_images(\"lion\", 5)\n"
   ]
  },
  {
   "cell_type": "code",
   "execution_count": null,
   "id": "b5cc45f7",
   "metadata": {},
   "outputs": [],
   "source": [
    "\n",
    "\n"
   ]
  },
  {
   "cell_type": "code",
   "execution_count": 14,
   "id": "2d8d9d4a",
   "metadata": {},
   "outputs": [
    {
     "name": "stdout",
     "output_type": "stream",
     "text": [
      "Converted 1.jpg in cat to black and white as 1.jpg\n",
      "Converted 2.jpg in cat to black and white as 2.jpg\n",
      "Converted 1.jpg in dog to black and white as 1.jpg\n",
      "Converted 2.jpg in dog to black and white as 2.jpg\n",
      "Converted 1.jpg in lion to black and white as 1.jpg\n",
      "Converted 2.jpg in lion to black and white as 2.jpg\n",
      "Converted 3.jpg in lion to black and white as 3.jpg\n"
     ]
    }
   ],
   "source": [
    "import os\n",
    "import cv2\n",
    "\n",
    "def convert_to_black_and_white_folder(input_folder, output_folder):\n",
    "    # Create the output folder if it doesn't exist\n",
    "    if not os.path.exists(output_folder):\n",
    "        os.makedirs(output_folder)\n",
    "\n",
    "    # Get a list of all subfolders in the input folder\n",
    "    subfolders = [f.name for f in os.scandir(input_folder) if f.is_dir()]\n",
    "\n",
    "    # Loop through each subfolder in the input folder\n",
    "    for subfolder in subfolders:\n",
    "        input_subfolder = os.path.join(input_folder, subfolder)\n",
    "        output_subfolder = os.path.join(output_folder, subfolder)\n",
    "\n",
    "        # Create a subfolder in bw_output for the current category\n",
    "        if not os.path.exists(output_subfolder):\n",
    "            os.makedirs(output_subfolder)\n",
    "\n",
    "        # Get a list of all files in the current subfolder\n",
    "        files = os.listdir(input_subfolder)\n",
    "\n",
    "        # Loop through each file in the current subfolder\n",
    "        for i, file in enumerate(files):\n",
    "            # Construct the full path for the input image\n",
    "            input_path = os.path.join(input_subfolder, file)\n",
    "\n",
    "            # Read the image\n",
    "            img = cv2.imread(input_path)\n",
    "\n",
    "            # Check if the image is loaded successfully\n",
    "            if img is None:\n",
    "                print(f\"Failed to load image: {input_path}\")\n",
    "                continue  # Skip to the next iteration\n",
    "\n",
    "            # Convert the image to grayscale\n",
    "            gray_img = cv2.cvtColor(img, cv2.COLOR_BGR2GRAY)\n",
    "\n",
    "            # Construct the full path for the output image\n",
    "            output_path = os.path.join(output_subfolder, f\"{i + 1}.jpg\")\n",
    "\n",
    "            # Save the black and white image\n",
    "            cv2.imwrite(output_path, gray_img)\n",
    "\n",
    "            print(f\"Converted {file} in {subfolder} to black and white as {i + 1}.jpg\")\n",
    "\n",
    "# Example usage:\n",
    "# Replace 'color_input' and 'bw_output' with your input and output folder paths\n",
    "convert_to_black_and_white_folder('color_input', 'bw_output')\n"
   ]
  },
  {
   "cell_type": "code",
   "execution_count": null,
   "id": "5602fc8b",
   "metadata": {},
   "outputs": [],
   "source": []
  }
 ],
 "metadata": {
  "kernelspec": {
   "display_name": "Python 3 (ipykernel)",
   "language": "python",
   "name": "python3"
  },
  "language_info": {
   "codemirror_mode": {
    "name": "ipython",
    "version": 3
   },
   "file_extension": ".py",
   "mimetype": "text/x-python",
   "name": "python",
   "nbconvert_exporter": "python",
   "pygments_lexer": "ipython3",
   "version": "3.10.5"
  }
 },
 "nbformat": 4,
 "nbformat_minor": 5
}
