{
 "cells": [
  {
   "cell_type": "code",
   "execution_count": 5,
   "id": "b93ea4cd",
   "metadata": {},
   "outputs": [
    {
     "name": "stdout",
     "output_type": "stream",
     "text": [
      "Downloaded 2/5 images\n",
      "Downloaded 3/5 images\n",
      "Downloaded 4/5 images\n",
      "Downloaded 5/5 images\n",
      "Downloaded 5 images for 'lion'\n"
     ]
    }
   ],
   "source": [
    "import os\n",
    "import requests\n",
    "from bs4 import BeautifulSoup\n",
    "from urllib.parse import urljoin  # Import urljoin for proper URL handling\n",
    "\n",
    "def download_google_images(query, num_images):\n",
    "    # Replace spaces with '+' in the search query\n",
    "    query = query.replace(\" \", \"+\")\n",
    "\n",
    "    # Create a directory to save the images\n",
    "    if not os.path.exists(query):\n",
    "        os.makedirs(query)\n",
    "\n",
    "    # Perform a Google Image search\n",
    "    url = f\"https://www.google.com/search?q={query}&tbm=isch\"\n",
    "    response = requests.get(url)\n",
    "\n",
    "    if response.status_code == 200:\n",
    "        soup = BeautifulSoup(response.text, \"html.parser\")\n",
    "        img_tags = soup.find_all(\"img\")\n",
    "\n",
    "        # Download the first 'num_images' images\n",
    "        for i, img_tag in enumerate(img_tags[:num_images]):\n",
    "            img_url = img_tag.get(\"src\")\n",
    "\n",
    "            # Check if the URL starts with \"http\" to filter out non-image URLs\n",
    "            if img_url and img_url.startswith(\"http\"):\n",
    "                img_url = urljoin(url, img_url)  # Ensure absolute URL\n",
    "                img_data = requests.get(img_url).content\n",
    "\n",
    "                with open(f\"{query}/{query}{i + 1}.jpg\", \"wb\") as img_file:\n",
    "                    img_file.write(img_data)\n",
    "\n",
    "                print(f\"Downloaded {i + 1}/{num_images} images\")\n",
    "\n",
    "        print(f\"Downloaded {num_images} images for '{query}'\")\n",
    "    else:\n",
    "        print(\"Failed to connect to Google Images\")\n",
    "\n",
    "# Example usage: Download 5 lion images\n",
    "download_google_images(\"lion\", 5)\n"
   ]
  },
  {
   "cell_type": "code",
   "execution_count": null,
   "id": "b5cc45f7",
   "metadata": {},
   "outputs": [],
   "source": [
    "\n",
    "\n"
   ]
  },
  {
   "cell_type": "code",
   "execution_count": 6,
   "id": "2d8d9d4a",
   "metadata": {},
   "outputs": [
    {
     "ename": "ModuleNotFoundError",
     "evalue": "No module named 'cv2'",
     "output_type": "error",
     "traceback": [
      "\u001b[1;31m---------------------------------------------------------------------------\u001b[0m",
      "\u001b[1;31mModuleNotFoundError\u001b[0m                       Traceback (most recent call last)",
      "\u001b[1;32m~\\AppData\\Local\\Temp\\ipykernel_27164\\552232462.py\u001b[0m in \u001b[0;36m<module>\u001b[1;34m\u001b[0m\n\u001b[1;32m----> 1\u001b[1;33m \u001b[1;32mimport\u001b[0m \u001b[0mcv2\u001b[0m\u001b[1;33m\u001b[0m\u001b[1;33m\u001b[0m\u001b[0m\n\u001b[0m\u001b[0;32m      2\u001b[0m \u001b[1;33m\u001b[0m\u001b[0m\n\u001b[0;32m      3\u001b[0m \u001b[1;32mdef\u001b[0m \u001b[0mconvert_to_black_and_white\u001b[0m\u001b[1;33m(\u001b[0m\u001b[0mimage_path\u001b[0m\u001b[1;33m,\u001b[0m \u001b[0msave_path\u001b[0m\u001b[1;33m)\u001b[0m\u001b[1;33m:\u001b[0m\u001b[1;33m\u001b[0m\u001b[1;33m\u001b[0m\u001b[0m\n\u001b[0;32m      4\u001b[0m     \u001b[1;31m# Read the image\u001b[0m\u001b[1;33m\u001b[0m\u001b[1;33m\u001b[0m\u001b[0m\n\u001b[0;32m      5\u001b[0m     \u001b[0mimg\u001b[0m \u001b[1;33m=\u001b[0m \u001b[0mcv2\u001b[0m\u001b[1;33m.\u001b[0m\u001b[0mimread\u001b[0m\u001b[1;33m(\u001b[0m\u001b[0mimage_path\u001b[0m\u001b[1;33m)\u001b[0m\u001b[1;33m\u001b[0m\u001b[1;33m\u001b[0m\u001b[0m\n",
      "\u001b[1;31mModuleNotFoundError\u001b[0m: No module named 'cv2'"
     ]
    }
   ],
   "source": [
    "import cv2\n",
    "\n",
    "def convert_to_black_and_white(image_path, save_path):\n",
    "    # Read the image\n",
    "    img = cv2.imread(image_path)\n",
    "\n",
    "    # Convert the image to grayscale\n",
    "    gray_img = cv2.cvtColor(img, cv2.COLOR_BGR2GRAY)\n",
    "\n",
    "    # Save the black and white image\n",
    "    cv2.imwrite(save_path, gray_img)\n",
    "\n",
    "# Example usage:\n",
    "# Replace 'input_image.jpg' and 'output_image.jpg' with your image paths\n",
    "convert_to_black_and_white(r'D:\\CSE465 Project\\CSE465-Project\\lion', r'D:\\CSE465 Project\\CSE465-Project\\output')\n"
   ]
  },
  {
   "cell_type": "code",
   "execution_count": null,
   "id": "5602fc8b",
   "metadata": {},
   "outputs": [],
   "source": []
  }
 ],
 "metadata": {
  "kernelspec": {
   "display_name": "Python 3 (ipykernel)",
   "language": "python",
   "name": "python3"
  },
  "language_info": {
   "codemirror_mode": {
    "name": "ipython",
    "version": 3
   },
   "file_extension": ".py",
   "mimetype": "text/x-python",
   "name": "python",
   "nbconvert_exporter": "python",
   "pygments_lexer": "ipython3",
   "version": "3.9.13"
  }
 },
 "nbformat": 4,
 "nbformat_minor": 5
}
