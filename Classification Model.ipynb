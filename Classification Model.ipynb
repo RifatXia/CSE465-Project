{
 "cells": [
  {
   "cell_type": "code",
   "execution_count": 1,
   "id": "b52049bc-289a-44c7-936a-a3cf78ebef07",
   "metadata": {},
   "outputs": [],
   "source": [
    "import numpy as np\n",
    "import tensorflow as tf\n",
    "from tensorflow.keras.models import Sequential\n",
    "from tensorflow.keras.layers import Conv2D, MaxPooling2D\n",
    "from tensorflow.keras.layers import Activation, Dropout, Flatten, Dense\n",
    "from tensorflow.keras.preprocessing.image import ImageDataGenerator\n",
    "import cv2"
   ]
  },
  {
   "cell_type": "code",
   "execution_count": 2,
   "id": "e0045ce6-a8ef-4e5f-a2e1-f9817a456a6c",
   "metadata": {},
   "outputs": [
    {
     "name": "stdout",
     "output_type": "stream",
     "text": [
      "Found 904 images belonging to 10 classes.\n"
     ]
    }
   ],
   "source": [
    "# Define the dimensions for your images\n",
    "image_width = 128\n",
    "image_height = 128\n",
    "batch_size = 32\n",
    "\n",
    "# Create an ImageDataGenerator for data augmentation\n",
    "train_datagen = ImageDataGenerator(\n",
    "    rescale=1./255,\n",
    "    rotation_range=20,\n",
    "    width_shift_range=0.2,\n",
    "    height_shift_range=0.2,\n",
    "    shear_range=0.2,\n",
    "    zoom_range=0.2,\n",
    "    horizontal_flip=True,\n",
    "    fill_mode='nearest'\n",
    ")\n",
    "\n",
    "# Load training data from the 'color_image' directory\n",
    "train_generator = train_datagen.flow_from_directory(\n",
    "    'color_input',\n",
    "    target_size=(image_width, image_height),\n",
    "    batch_size=batch_size,\n",
    "    class_mode='categorical'\n",
    ")\n"
   ]
  },
  {
   "cell_type": "code",
   "execution_count": 3,
   "id": "71381c9a-f277-4394-ac60-696d543d1be2",
   "metadata": {},
   "outputs": [],
   "source": [
    "num_classes = 10  # Replace with the actual number of classes in your dataset\n",
    "\n",
    "model = Sequential()\n",
    "model.add(Conv2D(32, (3, 3), input_shape=(image_width, image_height, 3)))\n",
    "model.add(Activation('relu'))\n",
    "model.add(MaxPooling2D(pool_size=(2, 2)))\n",
    "\n",
    "model.add(Conv2D(32, (3, 3)))\n",
    "model.add(Activation('relu'))\n",
    "model.add(MaxPooling2D(pool_size=(2, 2)))\n",
    "\n",
    "model.add(Conv2D(64, (3, 3)))\n",
    "model.add(Activation('relu'))\n",
    "model.add(MaxPooling2D(pool_size=(2, 2)))\n",
    "\n",
    "model.add(Flatten())\n",
    "model.add(Dense(64))\n",
    "model.add(Activation('relu'))\n",
    "model.add(Dropout(0.5))\n",
    "model.add(Dense(num_classes))\n",
    "model.add(Activation('softmax'))\n",
    "\n",
    "model.compile(loss='categorical_crossentropy',\n",
    "              optimizer='adam',\n",
    "              metrics=['accuracy'])"
   ]
  },
  {
   "cell_type": "code",
   "execution_count": 4,
   "id": "ba9b7379-482b-4426-928f-ec85d743d46b",
   "metadata": {
    "scrolled": true
   },
   "outputs": [
    {
     "name": "stdout",
     "output_type": "stream",
     "text": [
      "Epoch 1/10\n",
      "29/29 [==============================] - 24s 792ms/step - loss: 2.3227 - accuracy: 0.1206\n",
      "Epoch 2/10\n",
      "29/29 [==============================] - 18s 603ms/step - loss: 2.2695 - accuracy: 0.1272\n",
      "Epoch 3/10\n",
      "29/29 [==============================] - 19s 653ms/step - loss: 2.2228 - accuracy: 0.1692\n",
      "Epoch 4/10\n",
      "29/29 [==============================] - 20s 673ms/step - loss: 2.1358 - accuracy: 0.2201\n",
      "Epoch 5/10\n",
      "29/29 [==============================] - 17s 599ms/step - loss: 2.0520 - accuracy: 0.2389\n",
      "Epoch 6/10\n",
      "29/29 [==============================] - 17s 597ms/step - loss: 2.0061 - accuracy: 0.2600\n",
      "Epoch 7/10\n",
      "29/29 [==============================] - 18s 608ms/step - loss: 1.9508 - accuracy: 0.3142\n",
      "Epoch 8/10\n",
      "29/29 [==============================] - 18s 619ms/step - loss: 1.9082 - accuracy: 0.2965\n",
      "Epoch 9/10\n",
      "29/29 [==============================] - 19s 665ms/step - loss: 1.8524 - accuracy: 0.3009\n",
      "Epoch 10/10\n",
      "29/29 [==============================] - 19s 662ms/step - loss: 1.8078 - accuracy: 0.3197\n"
     ]
    },
    {
     "data": {
      "text/plain": [
       "<keras.src.callbacks.History at 0x26858a6c580>"
      ]
     },
     "execution_count": 4,
     "metadata": {},
     "output_type": "execute_result"
    }
   ],
   "source": [
    "model.fit(train_generator, epochs=10, steps_per_epoch=len(train_generator), verbose=1)"
   ]
  },
  {
   "cell_type": "code",
   "execution_count": 6,
   "id": "0364331e-cf92-471d-988c-a76af16b9029",
   "metadata": {},
   "outputs": [],
   "source": [
    "model.save('models/image_classification_model.h5')"
   ]
  }
 ],
 "metadata": {
  "kernelspec": {
   "display_name": "Python 3 (ipykernel)",
   "language": "python",
   "name": "python3"
  },
  "language_info": {
   "codemirror_mode": {
    "name": "ipython",
    "version": 3
   },
   "file_extension": ".py",
   "mimetype": "text/x-python",
   "name": "python",
   "nbconvert_exporter": "python",
   "pygments_lexer": "ipython3",
   "version": "3.10.8"
  }
 },
 "nbformat": 4,
 "nbformat_minor": 5
}
