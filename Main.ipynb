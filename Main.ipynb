{
 "cells": [
  {
   "cell_type": "code",
   "execution_count": 1,
   "id": "7e828979-d248-4cbd-9a01-7fe166a04899",
   "metadata": {},
   "outputs": [],
   "source": [
    "import numpy as np\n",
    "import tensorflow as tf\n",
    "from tensorflow.keras.models import Sequential\n",
    "from tensorflow.keras.layers import Conv2D, MaxPooling2D\n",
    "from tensorflow.keras.layers import Activation, Dropout, Flatten, Dense\n",
    "from tensorflow.keras.preprocessing.image import ImageDataGenerator\n",
    "import cv2"
   ]
  },
  {
   "cell_type": "code",
   "execution_count": 2,
   "id": "3ed18186-6ed3-4c0f-8cff-f53530f87dfb",
   "metadata": {},
   "outputs": [
    {
     "name": "stdout",
     "output_type": "stream",
     "text": [
      "Found 563 images belonging to 6 classes.\n"
     ]
    }
   ],
   "source": [
    "# Define the dimensions for your images\n",
    "image_width = 128\n",
    "image_height = 128\n",
    "batch_size = 32\n",
    "\n",
    "# Create an ImageDataGenerator for data augmentation\n",
    "train_datagen = ImageDataGenerator(\n",
    "    rescale=1./255,\n",
    "    rotation_range=20,\n",
    "    width_shift_range=0.2,\n",
    "    height_shift_range=0.2,\n",
    "    shear_range=0.2,\n",
    "    zoom_range=0.2,\n",
    "    horizontal_flip=True,\n",
    "    fill_mode='nearest'\n",
    ")\n",
    "\n",
    "# Load training data from the 'color_image' directory\n",
    "train_generator = train_datagen.flow_from_directory(\n",
    "    'color_input',\n",
    "    target_size=(image_width, image_height),\n",
    "    batch_size=batch_size,\n",
    "    class_mode='categorical'\n",
    ")\n"
   ]
  },
  {
   "cell_type": "code",
   "execution_count": 3,
   "id": "74420d6b-deb0-4c5d-bdba-b72cacc3a9b0",
   "metadata": {},
   "outputs": [],
   "source": [
    "num_classes = 6  # Replace with the actual number of classes in your dataset\n",
    "\n",
    "model = Sequential()\n",
    "model.add(Conv2D(32, (3, 3), input_shape=(image_width, image_height, 3)))\n",
    "model.add(Activation('relu'))\n",
    "model.add(MaxPooling2D(pool_size=(2, 2)))\n",
    "\n",
    "model.add(Conv2D(32, (3, 3)))\n",
    "model.add(Activation('relu'))\n",
    "model.add(MaxPooling2D(pool_size=(2, 2)))\n",
    "\n",
    "model.add(Conv2D(64, (3, 3)))\n",
    "model.add(Activation('relu'))\n",
    "model.add(MaxPooling2D(pool_size=(2, 2)))\n",
    "\n",
    "model.add(Flatten())\n",
    "model.add(Dense(64))\n",
    "model.add(Activation('relu'))\n",
    "model.add(Dropout(0.5))\n",
    "model.add(Dense(num_classes))\n",
    "model.add(Activation('softmax'))\n",
    "\n",
    "model.compile(loss='categorical_crossentropy',\n",
    "              optimizer='adam',\n",
    "              metrics=['accuracy'])"
   ]
  },
  {
   "cell_type": "code",
   "execution_count": null,
   "id": "176b2ab2-cee4-4fd9-b8f0-d4e02660efcf",
   "metadata": {},
   "outputs": [
    {
     "name": "stdout",
     "output_type": "stream",
     "text": [
      "Epoch 1/10\n",
      "18/18 [==============================] - 12s 618ms/step - loss: 1.8142 - accuracy: 0.1528\n",
      "Epoch 2/10\n",
      "18/18 [==============================] - 11s 586ms/step - loss: 1.7447 - accuracy: 0.2291\n",
      "Epoch 3/10\n",
      "18/18 [==============================] - 11s 604ms/step - loss: 1.6560 - accuracy: 0.2575\n",
      "Epoch 4/10\n",
      "18/18 [==============================] - 11s 621ms/step - loss: 1.5836 - accuracy: 0.3179\n",
      "Epoch 5/10\n",
      "18/18 [==============================] - 12s 686ms/step - loss: 1.4857 - accuracy: 0.3375\n",
      "Epoch 6/10\n",
      "18/18 [==============================] - 13s 718ms/step - loss: 1.4484 - accuracy: 0.4121\n",
      "Epoch 7/10\n",
      " 9/18 [==============>...............] - ETA: 6s - loss: 1.4283 - accuracy: 0.3782"
     ]
    }
   ],
   "source": [
    "model.fit(train_generator, epochs=10, steps_per_epoch=len(train_generator), verbose=1)\n",
    "model.save('models/image_classification_model.keras')"
   ]
  },
  {
   "cell_type": "code",
   "execution_count": null,
   "id": "94dc0f8d-58f6-46a4-ae03-031661481d66",
   "metadata": {},
   "outputs": [],
   "source": [
    "import os\n",
    "import cv2\n",
    "import numpy as np\n",
    "import tensorflow as tf\n",
    "\n",
    "# Define the dimensions for input images that match your test images\n",
    "image_width, image_height = 128, 128\n",
    "\n",
    "# Load your model\n",
    "model_path = 'models/image_classification_model.keras'\n",
    "trained_model = tf.keras.models.load_model(model_path)\n",
    "\n",
    "# Directory path for test images\n",
    "test_directory = 'color_output'\n",
    "\n",
    "# Create a dictionary to map class index to class name\n",
    "class_names = [class_name for class_name in os.listdir(test_directory) if os.path.isdir(os.path.join(test_directory, class_name))]\n",
    "class_names = sorted(class_names)\n",
    "class_to_index = {class_name: index for index, class_name in enumerate(class_names)}\n",
    "\n",
    "# Initialize variables for accuracy computation\n",
    "correct_predictions = 0\n",
    "total_predictions = 0\n",
    "\n",
    "# List all subdirectories (each corresponds to a class)\n",
    "class_directories = [os.path.join(test_directory, class_name) for class_name in class_names]\n",
    "\n",
    "for class_directory in class_directories:\n",
    "    class_name = os.path.basename(class_directory)\n",
    "    class_index = class_to_index[class_name]\n",
    "    print(f\"Class: {class_name}\")\n",
    "\n",
    "    # Iterate through all images in the current class directory\n",
    "    for image_filename in os.listdir(class_directory):\n",
    "        if image_filename.endswith('.jpg'):\n",
    "            # Preprocess the test image\n",
    "            image_path = os.path.join(class_directory, image_filename)\n",
    "            test_image = cv2.imread(image_path)\n",
    "            test_image = cv2.resize(test_image, (image_width, image_height))\n",
    "            test_image = test_image / 255.0\n",
    "            test_image = np.expand_dims(test_image, axis=0)\n",
    "\n",
    "            # Make predictions\n",
    "            test_predictions = trained_model.predict(test_image)\n",
    "\n",
    "            # Interpret the predictions\n",
    "            predicted_class = np.argmax(test_predictions)\n",
    "\n",
    "            # Check if predicted_class is within the valid range\n",
    "            if predicted_class < len(class_names):\n",
    "                predicted_class_name = class_names[predicted_class]\n",
    "            else:\n",
    "                predicted_class_name = \"Unknown\"\n",
    "\n",
    "            print(f\"Image: {image_filename}, Predicted Class: {predicted_class_name}, Actual Class: {class_name}\")\n",
    "\n",
    "            # Check if the prediction is correct\n",
    "            if predicted_class_name == class_name:\n",
    "                correct_predictions += 1\n",
    "\n",
    "            total_predictions += 1\n",
    "\n",
    "# Calculate and print the final accuracy\n",
    "accuracy = (correct_predictions / total_predictions) * 100\n",
    "print(f\"Final Accuracy: {accuracy:.2f}%\")\n"
   ]
  }
 ],
 "metadata": {
  "kernelspec": {
   "display_name": "Python 3 (ipykernel)",
   "language": "python",
   "name": "python3"
  },
  "language_info": {
   "codemirror_mode": {
    "name": "ipython",
    "version": 3
   },
   "file_extension": ".py",
   "mimetype": "text/x-python",
   "name": "python",
   "nbconvert_exporter": "python",
   "pygments_lexer": "ipython3",
   "version": "3.10.8"
  }
 },
 "nbformat": 4,
 "nbformat_minor": 5
}
