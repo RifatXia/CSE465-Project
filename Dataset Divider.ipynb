{
 "cells": [
  {
   "cell_type": "code",
   "execution_count": 5,
   "id": "a1dc9343-4e80-4f0c-aee7-dd6cee39892d",
   "metadata": {},
   "outputs": [
    {
     "name": "stdout",
     "output_type": "stream",
     "text": [
      "Dataset split into train and test sets within the 'dataset' folder.\n"
     ]
    }
   ],
   "source": [
    "import os\n",
    "import shutil\n",
    "from sklearn.model_selection import train_test_split\n",
    "\n",
    "# Specify the path to your dataset\n",
    "dataset_path = 'bw_output'\n",
    "\n",
    "# Ensure the main dataset directory exists\n",
    "if not os.path.exists(dataset_path):\n",
    "    print(f\"The folder '{dataset_path}' does not exist.\")\n",
    "    exit()\n",
    "\n",
    "# Create the dataset folder outside the bw_output directory\n",
    "dataset_root = os.path.join(os.path.dirname(dataset_path), 'dataset')\n",
    "os.makedirs(dataset_root, exist_ok=True)\n",
    "\n",
    "# Create train and test directories within the dataset folder\n",
    "train_path = os.path.join(dataset_root, 'train')\n",
    "test_path = os.path.join(dataset_root, 'test')\n",
    "os.makedirs(train_path, exist_ok=True)\n",
    "os.makedirs(test_path, exist_ok=True)\n",
    "\n",
    "# Iterate over each subfolder in the main dataset folder\n",
    "for subfolder in os.listdir(dataset_path):\n",
    "    subfolder_path = os.path.join(dataset_path, subfolder)\n",
    "\n",
    "    # Skip non-directory entries\n",
    "    if not os.path.isdir(subfolder_path):\n",
    "        continue\n",
    "\n",
    "    # Get the list of images for the class\n",
    "    images = os.listdir(subfolder_path)\n",
    "\n",
    "    # Check if the class has at least one image\n",
    "    if len(images) == 0:\n",
    "        print(f\"Skipping subfolder '{subfolder}' as it has no images.\")\n",
    "        continue\n",
    "\n",
    "    # Split the images into train and test sets\n",
    "    train_images, test_images = train_test_split(images, test_size=0.2, random_state=42)\n",
    "\n",
    "    # Move images to the train directory\n",
    "    for image in train_images:\n",
    "        src_path = os.path.join(subfolder_path, image)\n",
    "        dest_path = os.path.join(train_path, subfolder, image)\n",
    "        os.makedirs(os.path.dirname(dest_path), exist_ok=True)\n",
    "        shutil.move(src_path, dest_path)\n",
    "\n",
    "    # Move images to the test directory\n",
    "    for image in test_images:\n",
    "        src_path = os.path.join(subfolder_path, image)\n",
    "        dest_path = os.path.join(test_path, subfolder, image)\n",
    "        os.makedirs(os.path.dirname(dest_path), exist_ok=True)\n",
    "        shutil.move(src_path, dest_path)\n",
    "\n",
    "print(\"Dataset split into train and test sets within the 'dataset' folder.\")\n"
   ]
  },
  {
   "cell_type": "code",
   "execution_count": null,
   "id": "1ecf286a-d8d7-46d2-b99f-020406f81061",
   "metadata": {},
   "outputs": [],
   "source": []
  }
 ],
 "metadata": {
  "kernelspec": {
   "display_name": "Python 3 (ipykernel)",
   "language": "python",
   "name": "python3"
  },
  "language_info": {
   "codemirror_mode": {
    "name": "ipython",
    "version": 3
   },
   "file_extension": ".py",
   "mimetype": "text/x-python",
   "name": "python",
   "nbconvert_exporter": "python",
   "pygments_lexer": "ipython3",
   "version": "3.10.5"
  }
 },
 "nbformat": 4,
 "nbformat_minor": 5
}
