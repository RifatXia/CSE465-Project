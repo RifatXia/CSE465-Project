{
 "cells": [
  {
   "cell_type": "code",
   "execution_count": 1,
   "id": "8bd4eb4e-f164-4b7c-9301-574d962a34b2",
   "metadata": {},
   "outputs": [],
   "source": [
    "import cv2\n",
    "import os\n",
    "\n",
    "def load_images_from_directory(directory):\n",
    "    image_list = []\n",
    "    for root, dirs, files in os.walk(directory):\n",
    "        for filename in files:\n",
    "            if filename.endswith(\".jpg\"):\n",
    "                img = cv2.imread(os.path.join(root, filename))\n",
    "                img = cv2.cvtColor(img, cv2.COLOR_BGR2RGB)  # Convert to RGB\n",
    "                image_list.append(img)\n",
    "    return image_list\n",
    "\n",
    "# Load grayscale and color images from directories with subfolders\n",
    "grayscale_images = load_images_from_directory(\"bw_output/\")\n",
    "color_images = load_images_from_directory(\"color_input/\")"
   ]
  },
  {
   "cell_type": "code",
   "execution_count": 2,
   "id": "b2add7b1-0b8a-4aa0-8038-a25e8bd11522",
   "metadata": {},
   "outputs": [],
   "source": [
    "# Create a simple CNN-based autoencoder model for image colorization.\n",
    "# Define the encoder and decoder using a deep learning framework like Keras.\n",
    "\n",
    "import tensorflow as tf\n",
    "from tensorflow.keras import layers, models\n",
    "\n",
    "def create_colorization_model():\n",
    "    model = models.Sequential()\n",
    "\n",
    "    # Encoder\n",
    "    model.add(layers.Conv2D(64, (3, 3), activation='relu', padding='same', input_shape=(256, 256, 1)))\n",
    "    model.add(layers.MaxPooling2D((2, 2), padding='same'))\n",
    "    \n",
    "    # Decoder\n",
    "    model.add(layers.Conv2DTranspose(64, (3, 3), activation='relu', padding='same'))\n",
    "    model.add(layers.UpSampling2D((2, 2)))\n",
    "    \n",
    "    # Output layer with 3 channels (RGB)\n",
    "    model.add(layers.Conv2D(3, (3, 3), activation='sigmoid', padding='same'))\n",
    "    \n",
    "    return model"
   ]
  },
  {
   "cell_type": "code",
   "execution_count": 3,
   "id": "e19c96db-3fa7-456a-8159-822e551d7243",
   "metadata": {},
   "outputs": [
    {
     "ename": "NameError",
     "evalue": "name 'model' is not defined",
     "output_type": "error",
     "traceback": [
      "\u001b[1;31m---------------------------------------------------------------------------\u001b[0m",
      "\u001b[1;31mNameError\u001b[0m                                 Traceback (most recent call last)",
      "Cell \u001b[1;32mIn[3], line 9\u001b[0m\n\u001b[0;32m      6\u001b[0m     \u001b[38;5;28;01mreturn\u001b[39;00m tf\u001b[38;5;241m.\u001b[39mreduce_mean(tf\u001b[38;5;241m.\u001b[39msquare(y_true \u001b[38;5;241m-\u001b[39m y_pred))\n\u001b[0;32m      8\u001b[0m \u001b[38;5;66;03m# Compile the model with the loss function\u001b[39;00m\n\u001b[1;32m----> 9\u001b[0m \u001b[43mmodel\u001b[49m\u001b[38;5;241m.\u001b[39mcompile(optimizer\u001b[38;5;241m=\u001b[39m\u001b[38;5;124m'\u001b[39m\u001b[38;5;124madam\u001b[39m\u001b[38;5;124m'\u001b[39m, loss\u001b[38;5;241m=\u001b[39mcustom_loss)\n",
      "\u001b[1;31mNameError\u001b[0m: name 'model' is not defined"
     ]
    }
   ],
   "source": [
    "# Step 3: Loss Function\n",
    "\n",
    "# Choose a suitable loss function. Here, we'll use Mean Squared Error (MSE).\n",
    "\n",
    "def custom_loss(y_true, y_pred):\n",
    "    return tf.reduce_mean(tf.square(y_true - y_pred))\n",
    "\n",
    "# Compile the model with the loss function\n",
    "model.compile(optimizer='adam', loss=custom_loss)"
   ]
  },
  {
   "cell_type": "code",
   "execution_count": null,
   "id": "1e55b5e1-ebf4-4804-a86e-49afa495e140",
   "metadata": {},
   "outputs": [],
   "source": [
    "# Step 4: Training\n",
    "\n",
    "# Train the model on grayscale and color images\n",
    "model.fit(np.array(grayscale_images), np.array(color_images), epochs=10, batch_size=32, validation_split=0.2)\n"
   ]
  }
 ],
 "metadata": {
  "kernelspec": {
   "display_name": "Python 3 (ipykernel)",
   "language": "python",
   "name": "python3"
  },
  "language_info": {
   "codemirror_mode": {
    "name": "ipython",
    "version": 3
   },
   "file_extension": ".py",
   "mimetype": "text/x-python",
   "name": "python",
   "nbconvert_exporter": "python",
   "pygments_lexer": "ipython3",
   "version": "3.10.8"
  }
 },
 "nbformat": 4,
 "nbformat_minor": 5
}
