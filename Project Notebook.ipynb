{
 "cells": [
  {
   "cell_type": "code",
   "execution_count": 6,
   "id": "8d7b98fd",
   "metadata": {},
   "outputs": [],
   "source": [
    "import numpy as np\n",
    "import cv2\n",
    "\n",
    "def generate_result():\n",
    "    prototxt_path = '../colorization/models/colorization_deploy_v2.prototxt'\n",
    "    model_path = '../colorization/models/colorization_release_v2.caffemodel'\n",
    "    kernel_path = '../colorization/models/pts_in_hull.npy'\n",
    "    image_path = 'bw.jpg'\n",
    "    \n",
    "    net = cv2.dnn.readNetFromCaffe(prototxt_path, model_path)\n",
    "    points = np.load(kernel_path)\n",
    "    \n",
    "    points = points.transpose().reshape(2, 313, 1, 1)\n",
    "    net.getLayer(net.getLayerId(\"class8_ab\")).blobs = [points.astype(np.float32)]\n",
    "    net.getLayer(net.getLayerId(\"conv8_313_rh\")).blobs = [np.full([1, 313], 2.606, dtype=\"float32\")]\n",
    "    \n",
    "    bw_image = cv2.imread(image_path)\n",
    "    normalized = bw_image.astype(\"float32\") / 255.0\n",
    "    lab = cv2.cvtColor(normalized, cv2.COLOR_BGR2LAB)\n",
    "    \n",
    "    resized = cv2.resize(lab, (224, 224))\n",
    "    L = cv2.split(resized)[0]\n",
    "    L -= 50\n",
    "    \n",
    "    net.setInput(cv2.dnn.blobFromImage(L))\n",
    "    ab = net.forward()[0, :, :, :].transpose((1, 2, 0))\n",
    "    \n",
    "    ab = cv2.resize(ab, (bw_image.shape[1], bw_image.shape[0]))\n",
    "    L = cv2.split(lab)[0]\n",
    "    \n",
    "    colorized = np.concatenate((L[:, :, np.newaxis], ab), axis=2)\n",
    "    colorized = cv2.cvtColor(colorized, cv2.COLOR_LAB2BGR)\n",
    "    colorized = (255.0 * colorized).astype(\"uint8\")\n",
    "    \n",
    "    # Save the colorized image\n",
    "    cv2.imwrite('colorized_image.jpg', colorized)\n",
    "\n",
    "generate_result()"
   ]
  },
  {
   "cell_type": "code",
   "execution_count": null,
   "id": "1e6cfaf6-fb37-42b9-8ae4-9d6d345f8e37",
   "metadata": {},
   "outputs": [],
   "source": []
  }
 ],
 "metadata": {
  "kernelspec": {
   "display_name": "Python 3 (ipykernel)",
   "language": "python",
   "name": "python3"
  },
  "language_info": {
   "codemirror_mode": {
    "name": "ipython",
    "version": 3
   },
   "file_extension": ".py",
   "mimetype": "text/x-python",
   "name": "python",
   "nbconvert_exporter": "python",
   "pygments_lexer": "ipython3",
   "version": "3.10.5"
  }
 },
 "nbformat": 4,
 "nbformat_minor": 5
}
